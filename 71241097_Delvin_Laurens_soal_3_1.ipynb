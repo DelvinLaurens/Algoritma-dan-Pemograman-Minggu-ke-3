{
  "nbformat": 4,
  "nbformat_minor": 0,
  "metadata": {
    "colab": {
      "provenance": []
    },
    "kernelspec": {
      "name": "python3",
      "display_name": "Python 3"
    },
    "language_info": {
      "name": "python"
    }
  },
  "cells": [
    {
      "cell_type": "code",
      "execution_count": null,
      "metadata": {
        "id": "_VS_HhB0W-Yc"
      },
      "outputs": [],
      "source": [
        "# Menentukan_apakah_suatu_bilangan_merupakan_bilangan_prima_atau_bukan\n",
        "#Deklarasi\n",
        "var int i,a,n\n",
        "\n",
        "#Deskripsi\n",
        "i <- 1\n",
        "a <- 0\n",
        "input n\n",
        "\n",
        "WHILE i < n Do\n",
        "  if n % i == 0 Then\n",
        "    a <- a + 1\n",
        "  END IF\n",
        "  i <- i + 1\n",
        "END WHILE\n",
        "\n",
        "if a == 2 Then\n",
        "  print \"Bilangan Prima\"\n",
        "ELSE\n",
        "  print \"Bukan Bilangan Prima\"\n",
        "END IF"
      ]
    }
  ]
}