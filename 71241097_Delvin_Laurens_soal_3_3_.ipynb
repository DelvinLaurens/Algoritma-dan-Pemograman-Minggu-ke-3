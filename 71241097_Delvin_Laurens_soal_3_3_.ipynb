{
  "nbformat": 4,
  "nbformat_minor": 0,
  "metadata": {
    "colab": {
      "provenance": []
    },
    "kernelspec": {
      "name": "python3",
      "display_name": "Python 3"
    },
    "language_info": {
      "name": "python"
    }
  },
  "cells": [
    {
      "cell_type": "code",
      "execution_count": null,
      "metadata": {
        "id": "PmwsK1N8g35t"
      },
      "outputs": [],
      "source": [
        "#Menghitung nilai faktorial dari suatu bilangan\n",
        "# Deklarasi\n",
        "var int a,b,n\n",
        "\n",
        "#Deskripsi\n",
        "a <- 1\n",
        "b <- 1\n",
        "INPUT n\n",
        "\n",
        "WHILE a <= n DO\n",
        "    b <- b * a\n",
        "    a <- a + 1\n",
        "END WHILE\n",
        "\n",
        "OUTPUT b\n"
      ]
    }
  ]
}