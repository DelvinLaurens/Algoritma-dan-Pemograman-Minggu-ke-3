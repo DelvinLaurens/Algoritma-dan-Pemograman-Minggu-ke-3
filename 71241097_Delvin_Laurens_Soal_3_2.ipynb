{
  "nbformat": 4,
  "nbformat_minor": 0,
  "metadata": {
    "colab": {
      "provenance": []
    },
    "kernelspec": {
      "name": "python3",
      "display_name": "Python 3"
    },
    "language_info": {
      "name": "python"
    }
  },
  "cells": [
    {
      "cell_type": "code",
      "execution_count": null,
      "metadata": {
        "id": "B7JGPAvpY5wM"
      },
      "outputs": [],
      "source": [
        "#Membuat algoritma untuk menentukan jenis akar dari suatu persamaan kuadrat.\n",
        "#Deklarasi\n",
        "var int a,b,c\n",
        "\n",
        "#Deskripsi\n",
        "input a,b,c\n",
        "\n",
        "d <- b ** 2 - 4 * a * c\n",
        "\n",
        "if d >= 0 THEN\n",
        "  print \"Akar Real atau Nyata\"\n",
        "if d > 0 THEN\n",
        "  print \"Akar Real dan Nyata\"\n",
        "else d = 0 THEN\n",
        "  print \"Akar Real dan Kembar\"\n",
        "else d < 0 THEN\n",
        "  print \"Akar Imajiner atau Tidak Real atau Khayal.\"\n",
        "END IF"
      ]
    }
  ]
}